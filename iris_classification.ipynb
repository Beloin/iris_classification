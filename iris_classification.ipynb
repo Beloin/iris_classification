{
 "metadata": {
  "language_info": {
   "codemirror_mode": {
    "name": "ipython",
    "version": 3
   },
   "file_extension": ".py",
   "mimetype": "text/x-python",
   "name": "python",
   "nbconvert_exporter": "python",
   "pygments_lexer": "ipython3",
   "version": "3.8.5-final"
  },
  "orig_nbformat": 2,
  "kernelspec": {
   "name": "python3",
   "display_name": "Python 3.8.5 64-bit ('base': conda)",
   "metadata": {
    "interpreter": {
     "hash": "1f35f486eb6ce23489abc6d8c88052e0ba5c8d36cbbd1fd80ff2953db8759dad"
    }
   }
  }
 },
 "nbformat": 4,
 "nbformat_minor": 2,
 "cells": [
  {
   "source": [
    "# Analizando os dados do Dataset Íris "
   ],
   "cell_type": "markdown",
   "metadata": {}
  },
  {
   "cell_type": "code",
   "execution_count": 19,
   "metadata": {},
   "outputs": [],
   "source": [
    "import pandas as pd\n",
    "from sklearn import datasets\n",
    "from sklearn.model_selection import train_test_split\n",
    "\n",
    "# Aqui dizemos o classificador que iremos usar posteriormente\n",
    "classifier = 'DecisionTree' # KNN | DecisionTree\n",
    "\n",
    "# Felizmente, os datasets do módulo de sklearn já vem separados e tratados, então podemos nos preocupar mais no modelo.\n",
    "iris_base = datasets.load_iris()"
   ]
  },
  {
   "cell_type": "code",
   "execution_count": 17,
   "metadata": {},
   "outputs": [
    {
     "output_type": "execute_result",
     "data": {
      "text/plain": [
       "150"
      ]
     },
     "metadata": {},
     "execution_count": 17
    }
   ],
   "source": [
    "X = iris_base.data\n",
    "y = iris_base.target\n",
    "len(X)"
   ]
  },
  {
   "source": [
    "Aqui agora separamos as variáveis de teste das de treinamento:"
   ],
   "cell_type": "markdown",
   "metadata": {}
  },
  {
   "cell_type": "code",
   "execution_count": 18,
   "metadata": {},
   "outputs": [
    {
     "output_type": "execute_result",
     "data": {
      "text/plain": [
       "100"
      ]
     },
     "metadata": {},
     "execution_count": 18
    }
   ],
   "source": [
    "X_train, X_test, y_train, y_test = train_test_split(X, y, test_size= 0.33)\n",
    "len(X_train)"
   ]
  },
  {
   "source": [
    "Agora vamos treinar o modelo!"
   ],
   "cell_type": "markdown",
   "metadata": {}
  },
  {
   "cell_type": "code",
   "execution_count": 20,
   "metadata": {},
   "outputs": [],
   "source": [
    "# Primeiro precisamos importar um classificador, ou seja, o que criará nosso modelo.\n",
    "if classifier == 'DecisionTree':\n",
    "    from sklearn import tree\n",
    "    model = tree.DecisionTreeClassifier()\n",
    "else:\n",
    "    from sklearn import neighbors\n",
    "    model = neighbors.KNeighborsClassifier()"
   ]
  },
  {
   "cell_type": "code",
   "execution_count": null,
   "metadata": {},
   "outputs": [],
   "source": [
    "model.fit(X_train, y_train)"
   ]
  }
 ]
}